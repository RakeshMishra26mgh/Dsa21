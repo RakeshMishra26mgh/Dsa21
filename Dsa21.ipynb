{
  "nbformat": 4,
  "nbformat_minor": 0,
  "metadata": {
    "colab": {
      "provenance": [],
      "authorship_tag": "ABX9TyPuE3vBBjBIrC1QU1gicG21",
      "include_colab_link": true
    },
    "kernelspec": {
      "name": "python3",
      "display_name": "Python 3"
    },
    "language_info": {
      "name": "python"
    }
  },
  "cells": [
    {
      "cell_type": "markdown",
      "metadata": {
        "id": "view-in-github",
        "colab_type": "text"
      },
      "source": [
        "<a href=\"https://colab.research.google.com/github/RakeshMishra26mgh/Dsa21/blob/main/Dsa21.ipynb\" target=\"_parent\"><img src=\"https://colab.research.google.com/assets/colab-badge.svg\" alt=\"Open In Colab\"/></a>"
      ]
    },
    {
      "cell_type": "markdown",
      "source": [
        "Answer 1:-"
      ],
      "metadata": {
        "id": "CL4zErKHZ2sT"
      }
    },
    {
      "cell_type": "code",
      "source": [
        "class TreeNode:\n",
        "    def __init__(self, val=0, left=None, right=None):\n",
        "        self.val = val\n",
        "        self.left = left\n",
        "        self.right = right\n",
        "\n",
        "def inorderTraversal(root):\n",
        "    if root is None:\n",
        "        return []\n",
        "    return inorderTraversal(root.left) + [root.val] + inorderTraversal(root.right)\n",
        "\n",
        "def createBST(arr):\n",
        "    if not arr:\n",
        "        return None\n",
        "    mid = len(arr) // 2\n",
        "    root = TreeNode(arr[mid])\n",
        "    root.left = createBST(arr[:mid])\n",
        "    root.right = createBST(arr[mid+1:])\n",
        "    return root\n",
        "\n",
        "def convertBTBST(root):\n",
        "    if root is None:\n",
        "        return None\n",
        "    arr = inorderTraversal(root)\n",
        "    arr.sort()\n",
        "    return createBST(arr)\n",
        "\n",
        "def main():\n",
        "    root = TreeNode(10)\n",
        "    root.left = TreeNode(2)\n",
        "    root.right = TreeNode(7)\n",
        "    root.left.left = TreeNode(8)\n",
        "    root.left.right = TreeNode(4)\n",
        "\n",
        "    bst_root = convertBTBST(root)\n",
        "\n",
        "    def printBST(root):\n",
        "        if root is None:\n",
        "            return\n",
        "        printBST(root.left)\n",
        "        print(root.val, end=' ')\n",
        "        printBST(root.right)\n",
        "\n",
        "    print(\"The binary search tree is:\")\n",
        "    printBST(bst_root)\n",
        "\n",
        "if __name__ == '__main__':\n",
        "    main()\n"
      ],
      "metadata": {
        "id": "9LP85WhbcA7e"
      },
      "execution_count": null,
      "outputs": []
    },
    {
      "cell_type": "markdown",
      "source": [
        "Answer 3:-"
      ],
      "metadata": {
        "id": "pSI2Ds9zgPd5"
      }
    },
    {
      "cell_type": "code",
      "source": [
        "class Node:\n",
        "    def __init__(self, data):\n",
        "        self.data = data\n",
        "        self.left = None\n",
        "        self.right = None\n",
        "\n",
        "def binaryTreeToDoublyLinkedList(root):\n",
        "    if root is None:\n",
        "        return root\n",
        "\n",
        "    if root.left:\n",
        "        left = binaryTreeToDoublyLinkedList(root.left)\n",
        "\n",
        "\n",
        "        while left.right:\n",
        "            left = left.right\n",
        "\n",
        "        left.right = root\n",
        "        root.left = left\n",
        "\n",
        "    if root.right:\n",
        "        right = binaryTreeToDoublyLinkedList(root.right)\n",
        "\n",
        "\n",
        "        while right.left:\n",
        "            right = right.left\n",
        "\n",
        "\n",
        "        right.left = root\n",
        "\n",
        "\n",
        "        root.right = right\n",
        "\n",
        "    while root.left:\n",
        "        root = root.left\n",
        "\n",
        "    return root\n",
        "\n",
        "def printList(head):\n",
        "    while head:\n",
        "        print(head.data, end=\" \")\n",
        "        head = head.right\n",
        "\n",
        "\n",
        "if __name__ == '__main__':\n",
        "    root = Node(10)\n",
        "    root.left = Node(5)\n",
        "    root.right = Node(20)\n",
        "    root.right.left = Node(30)\n",
        "    root.right.right = Node(35)\n",
        "\n",
        "    head = binaryTreeToDoublyLinkedList(root)\n",
        "    printList(head)\n"
      ],
      "metadata": {
        "id": "efNT4nszrZ6J"
      },
      "execution_count": null,
      "outputs": []
    },
    {
      "cell_type": "markdown",
      "source": [
        "Answer 4:-"
      ],
      "metadata": {
        "id": "Agy2CJn2iAuO"
      }
    },
    {
      "cell_type": "code",
      "source": [
        "class Node:\n",
        "    def __init__(self, val=None):\n",
        "        self.val = val\n",
        "        self.left = None\n",
        "        self.right = None\n",
        "\n",
        "def printLevelOrder(root):\n",
        "    if not root:\n",
        "        return\n",
        "\n",
        "    q = []\n",
        "    q.append(root)\n",
        "\n",
        "    while len(q) > 0:\n",
        "        n = len(q)\n",
        "\n",
        "        for i in range(0, n):\n",
        "            p = q.pop(0)\n",
        "\n",
        "            print(p.val, end=\" \")\n",
        "\n",
        "            if p.left:\n",
        "                q.append(p.left)\n",
        "\n",
        "            if p.right:\n",
        "                q.append(p.right)\n",
        "\n",
        "        print(\"-1\")\n",
        "\n",
        "if __name__ == '__main__':\n",
        "    root = Node(1)\n",
        "    root.left = Node(2)\n",
        "    root.right = Node(3)\n",
        "    root.left.left = Node(4)\n",
        "    root.left.right = Node(5)\n",
        "    root.right.left = Node(6)\n",
        "    root.right.right = Node(7)\n",
        "\n",
        "    printLevelOrder(root)\n"
      ],
      "metadata": {
        "id": "-Oq3bPMAsDNL"
      },
      "execution_count": null,
      "outputs": []
    }
  ]
}